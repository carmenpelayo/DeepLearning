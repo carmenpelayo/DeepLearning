{
 "cells": [
  {
   "cell_type": "markdown",
   "metadata": {},
   "source": [
    "While editing this notebook, don't change cell types as that confuses the autograder.\n",
    "\n",
    "Before you turn this notebook in, make sure everything runs as expected. First, **restart the kernel** (in the menubar, select Kernel $\\rightarrow$ Restart) and then **run all cells** (in the menubar, select Cell $\\rightarrow$ Run All).\n",
    "\n",
    "Make sure you fill in any place that says `YOUR CODE HERE` or \"YOUR ANSWER HERE\", as well as your name below:"
   ]
  },
  {
   "cell_type": "code",
   "execution_count": 1,
   "metadata": {},
   "outputs": [],
   "source": [
    "NAME = \"Carmen Pelayo Fernández\""
   ]
  },
  {
   "cell_type": "markdown",
   "metadata": {},
   "source": [
    "_Understanding Deep Learning_"
   ]
  },
  {
   "cell_type": "markdown",
   "metadata": {},
   "source": [
    "---"
   ]
  },
  {
   "cell_type": "markdown",
   "metadata": {
    "colab_type": "text",
    "id": "view-in-github"
   },
   "source": [
    "<a href=\"https://colab.research.google.com/github/DL4DS/sp2024_notebooks/blob/main/release/nbs10/10_2_Convolution_for_MNIST_1D.ipynb\" target=\"_parent\"><img src=\"https://colab.research.google.com/assets/colab-badge.svg\" alt=\"Open In Colab\"/></a>"
   ]
  },
  {
   "cell_type": "markdown",
   "metadata": {
    "deletable": false,
    "editable": false,
    "id": "t9vk9Elugvmi",
    "nbgrader": {
     "cell_type": "markdown",
     "checksum": "382f4c1f9e2e22529c4eca847b8a0295",
     "grade": false,
     "grade_id": "cell-826721bc9c861057",
     "locked": true,
     "schema_version": 3,
     "solution": false,
     "task": false
    }
   },
   "source": [
    "# Notebook 10.2: Convolution for MNIST-1D\n",
    "\n",
    "This notebook investigates a 1D convolutional network for MNIST-1D as in figure 10.7 and 10.8a.\n",
    "\n",
    "Adapted from notebooks at https://github.com/udlbook/udlbook."
   ]
  },
  {
   "cell_type": "code",
   "execution_count": 2,
   "metadata": {
    "deletable": false,
    "editable": false,
    "id": "D5yLObtZCi9J",
    "nbgrader": {
     "cell_type": "code",
     "checksum": "3be57dfed972074361fe13320fdbe067",
     "grade": false,
     "grade_id": "cell-38ca5c48c4502f04",
     "locked": true,
     "schema_version": 3,
     "solution": false,
     "task": false
    }
   },
   "outputs": [],
   "source": [
    "# Clone the mnist1d repository if it doesn't exist\n",
    "import os\n",
    "\n",
    "if not os.path.exists('mnist1d'):\n",
    "    !git clone https://github.com/greydanus/mnist1d"
   ]
  },
  {
   "cell_type": "code",
   "execution_count": 3,
   "metadata": {
    "deletable": false,
    "editable": false,
    "id": "YrXWAH7sUWvU",
    "nbgrader": {
     "cell_type": "code",
     "checksum": "ae641d4a33b8951c20767dd08ca09df4",
     "grade": false,
     "grade_id": "cell-898018bfe2eae0a0",
     "locked": true,
     "schema_version": 3,
     "solution": false,
     "task": false
    }
   },
   "outputs": [],
   "source": [
    "import numpy as np\n",
    "import os\n",
    "import torch, torch.nn as nn\n",
    "from torch.utils.data import TensorDataset, DataLoader\n",
    "from torch.optim.lr_scheduler import StepLR\n",
    "import matplotlib.pyplot as plt\n",
    "import mnist1d\n",
    "import random\n",
    "from torchinfo import summary"
   ]
  },
  {
   "cell_type": "code",
   "execution_count": 4,
   "metadata": {
    "deletable": false,
    "editable": false,
    "id": "twI72ZCrCt5z",
    "nbgrader": {
     "cell_type": "code",
     "checksum": "d528988585d87180da6af0099959a9af",
     "grade": false,
     "grade_id": "cell-dba2f652f646650b",
     "locked": true,
     "schema_version": 3,
     "solution": false,
     "task": false
    }
   },
   "outputs": [
    {
     "name": "stdout",
     "output_type": "stream",
     "text": [
      "Successfully loaded data from ./mnist1d_data.pkl\n",
      "Examples in training set: 4000\n",
      "Examples in test set: 1000\n",
      "Length of each example: 40\n"
     ]
    }
   ],
   "source": [
    "args = mnist1d.data.get_dataset_args()\n",
    "data = mnist1d.data.get_dataset(args, path='./mnist1d_data.pkl', download=False, regenerate=False)\n",
    "\n",
    "# The training and test input and outputs are in\n",
    "# data['x'], data['y'], data['x_test'], and data['y_test']\n",
    "print(\"Examples in training set: {}\".format(len(data['y'])))\n",
    "print(\"Examples in test set: {}\".format(len(data['y_test'])))\n",
    "print(\"Length of each example: {}\".format(data['x'].shape[-1]))"
   ]
  },
  {
   "cell_type": "code",
   "execution_count": 5,
   "metadata": {
    "deletable": false,
    "editable": false,
    "id": "8bKADvLHbiV5",
    "nbgrader": {
     "cell_type": "code",
     "checksum": "33f15b626b9e30c047c82c1b3335f3b5",
     "grade": false,
     "grade_id": "cell-186d8014f879b8bc",
     "locked": true,
     "schema_version": 3,
     "solution": false,
     "task": false
    }
   },
   "outputs": [
    {
     "name": "stdout",
     "output_type": "stream",
     "text": [
      "Train data: 4000 examples (columns), each of which has 40 dimensions (rows)\n",
      "Validation data: 1000 examples (columns), each of which has 40 dimensions (rows)\n"
     ]
    }
   ],
   "source": [
    "# Load in the data\n",
    "train_data_x = data['x'].transpose()\n",
    "train_data_y = data['y']\n",
    "val_data_x = data['x_test'].transpose()\n",
    "val_data_y = data['y_test']\n",
    "# Print out sizes\n",
    "print(\"Train data: %d examples (columns), each of which has %d dimensions (rows)\"%((train_data_x.shape[1],train_data_x.shape[0])))\n",
    "print(\"Validation data: %d examples (columns), each of which has %d dimensions (rows)\"%((val_data_x.shape[1],val_data_x.shape[0])))"
   ]
  },
  {
   "cell_type": "markdown",
   "metadata": {
    "deletable": false,
    "editable": false,
    "id": "_sFvRDGrl4qe",
    "nbgrader": {
     "cell_type": "markdown",
     "checksum": "d041e0eb4ec05e1c155d77843424d064",
     "grade": false,
     "grade_id": "cell-c8ea2152bd84384a",
     "locked": true,
     "schema_version": 3,
     "solution": false,
     "task": false
    }
   },
   "source": [
    "Define the network"
   ]
  },
  {
   "cell_type": "code",
   "execution_count": 6,
   "metadata": {
    "deletable": false,
    "id": "FslroPJJffrh",
    "nbgrader": {
     "cell_type": "code",
     "checksum": "c1bf01f51f97e92202957cfb0bd5c2fa",
     "grade": false,
     "grade_id": "cell-6cc7ac979be00536",
     "locked": false,
     "schema_version": 3,
     "solution": true,
     "task": false
    }
   },
   "outputs": [],
   "source": [
    "# There are 40 input dimensions and 10 output dimensions for this data\n",
    "# The inputs correspond to the 40 offsets in the MNIST1D template.\n",
    "D_i = 40\n",
    "# The outputs correspond to the 10 digits\n",
    "D_o = 10\n",
    "\n",
    "model = torch.nn.Sequential(torch.nn.Conv1d(1, 15, kernel_size=3, stride=2, padding=0, padding_mode='zeros'), \n",
    "                            torch.nn.ReLU(), \n",
    "                            torch.nn.Conv1d(15, 15, kernel_size=3, stride=2, padding=0, padding_mode='zeros'),\n",
    "                            torch.nn.ReLU(), \n",
    "                            torch.nn.Conv1d(15, 15, kernel_size=3, stride=2, padding=0, padding_mode='zeros'),\n",
    "                            torch.nn.ReLU(), \n",
    "                            torch.nn.Flatten(),\n",
    "                            torch.nn.Linear(60, 10))\n",
    "    \n",
    "# TODO Create a model with the following layers\n",
    "# 1. Convolutional layer, (input=length 40 and 1 channel, kernel size 3, stride 2, padding=\"valid\", 15 output channels )\n",
    "# 2. ReLU\n",
    "# 3. Convolutional layer, (input=length 19 and 15 channels, kernel size 3, stride 2, padding=\"valid\", 15 output channels )\n",
    "# 4. ReLU\n",
    "# 5. Convolutional layer, (input=length 9 and 15 channels, kernel size 3, stride 2, padding=\"valid\", 15 output channels)\n",
    "# 6. ReLU\n",
    "# 7. Flatten (converts 4x15) to length 60\n",
    "# 8. Linear layer (input size = 60, output size = 10)\n",
    "# References:\n",
    "# https://pytorch.org/docs/1.13/generated/torch.nn.Conv1d.html?highlight=conv1d#torch.nn.Conv1d\n",
    "# https://pytorch.org/docs/stable/generated/torch.nn.Flatten.html\n",
    "# https://pytorch.org/docs/1.13/generated/torch.nn.Linear.html?highlight=linear#torch.nn.Linear\n",
    "\n",
    "# NOTE THAT THE CONVOLUTIONAL LAYERS NEED TO TAKE THE NUMBER OF INPUT CHANNELS AS A PARAMETER\n",
    "# AND NOT THE INPUT SIZE."
   ]
  },
  {
   "cell_type": "code",
   "execution_count": 7,
   "metadata": {
    "deletable": false,
    "editable": false,
    "id": "YgLaex1pfhqz",
    "nbgrader": {
     "cell_type": "code",
     "checksum": "5edaca79d353a5efb20038a5088639d1",
     "grade": false,
     "grade_id": "cell-1657acd518aefc28",
     "locked": true,
     "schema_version": 3,
     "solution": false,
     "task": false
    }
   },
   "outputs": [],
   "source": [
    "# He initialization of weights\n",
    "def weights_init(layer_in):\n",
    "  if isinstance(layer_in, nn.Linear):\n",
    "    nn.init.kaiming_uniform_(layer_in.weight)\n",
    "    layer_in.bias.data.fill_(0.0)"
   ]
  },
  {
   "cell_type": "code",
   "execution_count": 8,
   "metadata": {
    "deletable": false,
    "editable": false,
    "id": "NYw8I_3mmX5c",
    "nbgrader": {
     "cell_type": "code",
     "checksum": "568c5cef459f5a0b7ab6a39bdba88974",
     "grade": false,
     "grade_id": "cell-23c12ca27b87659a",
     "locked": true,
     "schema_version": 3,
     "solution": false,
     "task": false
    }
   },
   "outputs": [],
   "source": [
    "# choose cross entropy loss function (equation 5.24 in the loss notes)\n",
    "loss_function = nn.CrossEntropyLoss()\n",
    "# construct SGD optimizer and initialize learning rate and momentum\n",
    "optimizer = torch.optim.SGD(model.parameters(), lr = 0.05, momentum=0.9)\n",
    "# object that decreases learning rate by half every 20 epochs\n",
    "scheduler = StepLR(optimizer, step_size=20, gamma=0.5)"
   ]
  },
  {
   "cell_type": "code",
   "execution_count": 9,
   "metadata": {
    "deletable": false,
    "editable": false,
    "nbgrader": {
     "cell_type": "code",
     "checksum": "173cee8439025fd052f81a46983b96b2",
     "grade": false,
     "grade_id": "cell-bba067cd071fbc90",
     "locked": true,
     "schema_version": 3,
     "solution": false,
     "task": false
    }
   },
   "outputs": [],
   "source": [
    "# create 100 dummy data points and store in data loader class\n",
    "x_train = torch.tensor(train_data_x.transpose().astype('float32'))\n",
    "y_train = torch.tensor(train_data_y.astype('long')).long()\n",
    "x_val= torch.tensor(val_data_x.transpose().astype('float32'))\n",
    "y_val = torch.tensor(val_data_y.astype('long')).long()\n",
    "\n",
    "# load the data into a class that creates the batches\n",
    "data_loader = DataLoader(TensorDataset(x_train,y_train), batch_size=100, shuffle=True, worker_init_fn=np.random.seed(1))"
   ]
  },
  {
   "cell_type": "code",
   "execution_count": 10,
   "metadata": {
    "deletable": false,
    "editable": false,
    "nbgrader": {
     "cell_type": "code",
     "checksum": "64c9a0ab3fc2f0af1677d4922a7ac539",
     "grade": false,
     "grade_id": "cell-16e01f293696a21b",
     "locked": true,
     "schema_version": 3,
     "solution": false,
     "task": false
    }
   },
   "outputs": [
    {
     "name": "stdout",
     "output_type": "stream",
     "text": [
      "40\n",
      "4000\n",
      "4000\n",
      "1000\n",
      "1000\n"
     ]
    }
   ],
   "source": [
    "print(len(data_loader))\n",
    "print(len(x_train))\n",
    "print(len(y_train))\n",
    "print(len(x_val))\n",
    "print(len(y_val))"
   ]
  },
  {
   "cell_type": "code",
   "execution_count": 11,
   "metadata": {
    "deletable": false,
    "editable": false,
    "nbgrader": {
     "cell_type": "code",
     "checksum": "4c1a444c0e5d3aec20174f63a44999f3",
     "grade": false,
     "grade_id": "cell-f302fdf1bec52860",
     "locked": true,
     "schema_version": 3,
     "solution": false,
     "task": false
    }
   },
   "outputs": [
    {
     "name": "stdout",
     "output_type": "stream",
     "text": [
      "Sequential(\n",
      "  (0): Conv1d(1, 15, kernel_size=(3,), stride=(2,))\n",
      "  (1): ReLU()\n",
      "  (2): Conv1d(15, 15, kernel_size=(3,), stride=(2,))\n",
      "  (3): ReLU()\n",
      "  (4): Conv1d(15, 15, kernel_size=(3,), stride=(2,))\n",
      "  (5): ReLU()\n",
      "  (6): Flatten(start_dim=1, end_dim=-1)\n",
      "  (7): Linear(in_features=60, out_features=10, bias=True)\n",
      ")\n"
     ]
    },
    {
     "data": {
      "text/plain": [
       "==========================================================================================\n",
       "Layer (type:depth-idx)                   Output Shape              Param #\n",
       "==========================================================================================\n",
       "Sequential                               [100, 10]                 --\n",
       "├─Conv1d: 1-1                            [100, 15, 19]             60\n",
       "├─ReLU: 1-2                              [100, 15, 19]             --\n",
       "├─Conv1d: 1-3                            [100, 15, 9]              690\n",
       "├─ReLU: 1-4                              [100, 15, 9]              --\n",
       "├─Conv1d: 1-5                            [100, 15, 4]              690\n",
       "├─ReLU: 1-6                              [100, 15, 4]              --\n",
       "├─Flatten: 1-7                           [100, 60]                 --\n",
       "├─Linear: 1-8                            [100, 10]                 610\n",
       "==========================================================================================\n",
       "Total params: 2,050\n",
       "Trainable params: 2,050\n",
       "Non-trainable params: 0\n",
       "Total mult-adds (Units.MEGABYTES): 1.07\n",
       "==========================================================================================\n",
       "Input size (MB): 0.02\n",
       "Forward/backward pass size (MB): 0.39\n",
       "Params size (MB): 0.01\n",
       "Estimated Total Size (MB): 0.42\n",
       "=========================================================================================="
      ]
     },
     "execution_count": 11,
     "metadata": {},
     "output_type": "execute_result"
    }
   ],
   "source": [
    "# Initialize model weights\n",
    "model.apply(weights_init)\n",
    "print(model)\n",
    "summary(model, input_size=(100, 1, 40))"
   ]
  },
  {
   "cell_type": "code",
   "execution_count": 12,
   "metadata": {
    "deletable": false,
    "editable": false,
    "nbgrader": {
     "cell_type": "code",
     "checksum": "1771937d0163ddb19834dd1e4e604ab6",
     "grade": false,
     "grade_id": "cell-77d13e8a54937cbe",
     "locked": true,
     "schema_version": 3,
     "solution": false,
     "task": false
    }
   },
   "outputs": [
    {
     "name": "stdout",
     "output_type": "stream",
     "text": [
      "Epoch     0, train loss 1.779001, train error 72.50,  val loss 1.817484, percent error 75.10\n",
      "Epoch     1, train loss 1.474527, train error 57.80,  val loss 1.492229, percent error 59.50\n",
      "Epoch     2, train loss 1.344223, train error 52.60,  val loss 1.345978, percent error 54.50\n",
      "Epoch     3, train loss 1.216408, train error 49.70,  val loss 1.251120, percent error 52.70\n",
      "Epoch     4, train loss 1.161718, train error 48.25,  val loss 1.196692, percent error 49.30\n",
      "Epoch     5, train loss 1.021426, train error 40.60,  val loss 1.056045, percent error 43.10\n",
      "Epoch     6, train loss 0.885667, train error 34.80,  val loss 0.924521, percent error 37.90\n",
      "Epoch     7, train loss 0.865436, train error 35.00,  val loss 0.913460, percent error 38.30\n",
      "Epoch     8, train loss 0.769540, train error 29.22,  val loss 0.813776, percent error 33.70\n",
      "Epoch     9, train loss 0.652243, train error 25.05,  val loss 0.713127, percent error 29.30\n",
      "Epoch    10, train loss 0.612914, train error 23.07,  val loss 0.686106, percent error 27.30\n",
      "Epoch    11, train loss 0.567174, train error 21.90,  val loss 0.642035, percent error 25.70\n",
      "Epoch    12, train loss 0.491629, train error 18.62,  val loss 0.568967, percent error 21.10\n",
      "Epoch    13, train loss 0.516072, train error 19.82,  val loss 0.619488, percent error 22.20\n",
      "Epoch    14, train loss 0.422017, train error 15.88,  val loss 0.499778, percent error 19.50\n",
      "Epoch    15, train loss 0.353450, train error 13.05,  val loss 0.469389, percent error 17.20\n",
      "Epoch    16, train loss 0.321754, train error 11.45,  val loss 0.454399, percent error 15.50\n",
      "Epoch    17, train loss 0.297247, train error 10.53,  val loss 0.444543, percent error 15.70\n",
      "Epoch    18, train loss 0.289973, train error 10.47,  val loss 0.419699, percent error 15.00\n",
      "Epoch    19, train loss 0.250549, train error 9.00,  val loss 0.423383, percent error 14.10\n",
      "Epoch    20, train loss 0.202009, train error 6.80,  val loss 0.354068, percent error 12.00\n",
      "Epoch    21, train loss 0.178800, train error 5.97,  val loss 0.365633, percent error 11.90\n",
      "Epoch    22, train loss 0.190998, train error 6.90,  val loss 0.385549, percent error 12.40\n",
      "Epoch    23, train loss 0.181013, train error 6.35,  val loss 0.325543, percent error 11.00\n",
      "Epoch    24, train loss 0.172852, train error 6.15,  val loss 0.390072, percent error 12.30\n",
      "Epoch    25, train loss 0.155831, train error 5.40,  val loss 0.341453, percent error 11.70\n",
      "Epoch    26, train loss 0.135887, train error 4.43,  val loss 0.334233, percent error 10.30\n",
      "Epoch    27, train loss 0.130038, train error 3.88,  val loss 0.356659, percent error 10.60\n",
      "Epoch    28, train loss 0.162065, train error 5.82,  val loss 0.365209, percent error 11.80\n",
      "Epoch    29, train loss 0.125633, train error 4.32,  val loss 0.346290, percent error 10.40\n",
      "Epoch    30, train loss 0.129163, train error 4.40,  val loss 0.370535, percent error 10.70\n",
      "Epoch    31, train loss 0.112385, train error 3.62,  val loss 0.360383, percent error 11.20\n",
      "Epoch    32, train loss 0.127187, train error 4.72,  val loss 0.389640, percent error 11.60\n",
      "Epoch    33, train loss 0.102206, train error 3.22,  val loss 0.337898, percent error 9.90\n",
      "Epoch    34, train loss 0.104969, train error 3.75,  val loss 0.378641, percent error 10.60\n",
      "Epoch    35, train loss 0.102603, train error 3.45,  val loss 0.344076, percent error 10.80\n",
      "Epoch    36, train loss 0.093129, train error 2.62,  val loss 0.367727, percent error 10.50\n",
      "Epoch    37, train loss 0.093080, train error 3.38,  val loss 0.360950, percent error 9.20\n",
      "Epoch    38, train loss 0.083537, train error 3.00,  val loss 0.356934, percent error 9.50\n",
      "Epoch    39, train loss 0.073662, train error 2.05,  val loss 0.337650, percent error 9.10\n",
      "Epoch    40, train loss 0.063124, train error 1.50,  val loss 0.344043, percent error 9.80\n",
      "Epoch    41, train loss 0.068503, train error 1.93,  val loss 0.365645, percent error 9.40\n",
      "Epoch    42, train loss 0.060582, train error 1.65,  val loss 0.343761, percent error 9.80\n",
      "Epoch    43, train loss 0.060741, train error 1.65,  val loss 0.373714, percent error 9.60\n",
      "Epoch    44, train loss 0.062666, train error 1.68,  val loss 0.357470, percent error 10.00\n",
      "Epoch    45, train loss 0.062738, train error 1.65,  val loss 0.389167, percent error 9.90\n",
      "Epoch    46, train loss 0.054896, train error 1.32,  val loss 0.369458, percent error 9.70\n",
      "Epoch    47, train loss 0.054579, train error 1.28,  val loss 0.374754, percent error 9.60\n",
      "Epoch    48, train loss 0.051375, train error 1.12,  val loss 0.366239, percent error 9.40\n",
      "Epoch    49, train loss 0.053312, train error 1.53,  val loss 0.374817, percent error 10.30\n",
      "Epoch    50, train loss 0.052499, train error 1.18,  val loss 0.391475, percent error 10.10\n",
      "Epoch    51, train loss 0.049333, train error 1.22,  val loss 0.379223, percent error 10.10\n",
      "Epoch    52, train loss 0.046213, train error 0.88,  val loss 0.383304, percent error 10.40\n",
      "Epoch    53, train loss 0.045652, train error 0.90,  val loss 0.392921, percent error 9.80\n",
      "Epoch    54, train loss 0.044880, train error 1.03,  val loss 0.402602, percent error 10.30\n",
      "Epoch    55, train loss 0.043881, train error 1.12,  val loss 0.376828, percent error 9.40\n",
      "Epoch    56, train loss 0.042325, train error 0.78,  val loss 0.402935, percent error 10.20\n",
      "Epoch    57, train loss 0.043694, train error 1.05,  val loss 0.396454, percent error 10.40\n",
      "Epoch    58, train loss 0.040194, train error 0.95,  val loss 0.393437, percent error 10.10\n",
      "Epoch    59, train loss 0.039758, train error 0.82,  val loss 0.416263, percent error 10.90\n",
      "Epoch    60, train loss 0.036222, train error 0.72,  val loss 0.395029, percent error 10.00\n",
      "Epoch    61, train loss 0.035552, train error 0.78,  val loss 0.402387, percent error 10.20\n",
      "Epoch    62, train loss 0.035581, train error 0.70,  val loss 0.404801, percent error 10.00\n",
      "Epoch    63, train loss 0.035051, train error 0.55,  val loss 0.408334, percent error 10.40\n",
      "Epoch    64, train loss 0.034452, train error 0.60,  val loss 0.410275, percent error 9.80\n",
      "Epoch    65, train loss 0.033647, train error 0.62,  val loss 0.403923, percent error 10.10\n",
      "Epoch    66, train loss 0.035013, train error 0.72,  val loss 0.412303, percent error 10.60\n",
      "Epoch    67, train loss 0.033233, train error 0.62,  val loss 0.411232, percent error 10.10\n",
      "Epoch    68, train loss 0.033377, train error 0.60,  val loss 0.412742, percent error 9.90\n",
      "Epoch    69, train loss 0.032680, train error 0.55,  val loss 0.409594, percent error 9.60\n",
      "Epoch    70, train loss 0.032600, train error 0.50,  val loss 0.421178, percent error 10.00\n",
      "Epoch    71, train loss 0.033061, train error 0.62,  val loss 0.415178, percent error 9.90\n",
      "Epoch    72, train loss 0.032399, train error 0.47,  val loss 0.408982, percent error 10.00\n",
      "Epoch    73, train loss 0.030989, train error 0.45,  val loss 0.418579, percent error 9.60\n",
      "Epoch    74, train loss 0.032467, train error 0.50,  val loss 0.429819, percent error 10.10\n",
      "Epoch    75, train loss 0.031657, train error 0.50,  val loss 0.430247, percent error 10.00\n",
      "Epoch    76, train loss 0.029631, train error 0.47,  val loss 0.426554, percent error 10.30\n",
      "Epoch    77, train loss 0.029061, train error 0.43,  val loss 0.427436, percent error 10.50\n",
      "Epoch    78, train loss 0.029005, train error 0.32,  val loss 0.430780, percent error 10.30\n",
      "Epoch    79, train loss 0.029693, train error 0.47,  val loss 0.425744, percent error 10.10\n",
      "Epoch    80, train loss 0.028112, train error 0.38,  val loss 0.431355, percent error 10.20\n",
      "Epoch    81, train loss 0.028333, train error 0.32,  val loss 0.438130, percent error 10.10\n",
      "Epoch    82, train loss 0.027597, train error 0.35,  val loss 0.435026, percent error 10.30\n",
      "Epoch    83, train loss 0.027518, train error 0.35,  val loss 0.438121, percent error 10.50\n",
      "Epoch    84, train loss 0.027633, train error 0.40,  val loss 0.437898, percent error 10.30\n",
      "Epoch    85, train loss 0.027295, train error 0.43,  val loss 0.436403, percent error 10.20\n",
      "Epoch    86, train loss 0.026856, train error 0.40,  val loss 0.436202, percent error 10.30\n",
      "Epoch    87, train loss 0.026770, train error 0.38,  val loss 0.438350, percent error 10.20\n",
      "Epoch    88, train loss 0.027738, train error 0.40,  val loss 0.442922, percent error 10.10\n",
      "Epoch    89, train loss 0.026410, train error 0.38,  val loss 0.440338, percent error 10.30\n",
      "Epoch    90, train loss 0.026226, train error 0.35,  val loss 0.436402, percent error 10.20\n",
      "Epoch    91, train loss 0.026200, train error 0.28,  val loss 0.442766, percent error 10.30\n",
      "Epoch    92, train loss 0.025898, train error 0.32,  val loss 0.438200, percent error 10.20\n",
      "Epoch    93, train loss 0.025891, train error 0.30,  val loss 0.443252, percent error 10.40\n",
      "Epoch    94, train loss 0.025974, train error 0.30,  val loss 0.441271, percent error 10.00\n",
      "Epoch    95, train loss 0.025484, train error 0.30,  val loss 0.445297, percent error 10.50\n",
      "Epoch    96, train loss 0.025994, train error 0.22,  val loss 0.446537, percent error 10.40\n",
      "Epoch    97, train loss 0.025195, train error 0.28,  val loss 0.447144, percent error 10.30\n",
      "Epoch    98, train loss 0.025092, train error 0.25,  val loss 0.447167, percent error 10.50\n",
      "Epoch    99, train loss 0.025909, train error 0.35,  val loss 0.451438, percent error 10.40\n"
     ]
    },
    {
     "data": {
      "image/png": "[encoded data removed]",
      "text/plain": [
       "<Figure size 640x480 with 1 Axes>"
      ]
     },
     "metadata": {},
     "output_type": "display_data"
    }
   ],
   "source": [
    "\n",
    "# loop over the dataset n_epoch times\n",
    "n_epoch = 100\n",
    "# store the loss and the % correct at each epoch\n",
    "losses_train = np.zeros((n_epoch))\n",
    "errors_train = np.zeros((n_epoch))\n",
    "losses_val = np.zeros((n_epoch))\n",
    "errors_val = np.zeros((n_epoch))\n",
    "\n",
    "for epoch in range(n_epoch):\n",
    "  # loop over batches\n",
    "  for i, data in enumerate(data_loader):\n",
    "    # retrieve inputs and labels for this batch\n",
    "    x_batch, y_batch = data\n",
    "    # zero the parameter gradients\n",
    "    optimizer.zero_grad()\n",
    "    # forward pass -- calculate model output\n",
    "    pred = model(x_batch[:,None,:])\n",
    "    # compute the loss\n",
    "    loss = loss_function(pred, y_batch)\n",
    "    # backward pass\n",
    "    loss.backward()\n",
    "    # SGD update\n",
    "    optimizer.step()\n",
    "\n",
    "  # Run whole dataset to get statistics -- normally wouldn't do this\n",
    "  pred_train = model(x_train[:,None,:])\n",
    "  pred_val = model(x_val[:,None,:])\n",
    "  _, predicted_train_class = torch.max(pred_train.data, 1)\n",
    "  _, predicted_val_class = torch.max(pred_val.data, 1)\n",
    "  errors_train[epoch] = 100 - 100 * (predicted_train_class == y_train).float().sum() / len(y_train)\n",
    "  errors_val[epoch]= 100 - 100 * (predicted_val_class == y_val).float().sum() / len(y_val)\n",
    "  losses_train[epoch] = loss_function(pred_train, y_train).item()\n",
    "  losses_val[epoch]= loss_function(pred_val, y_val).item()\n",
    "  print(f'Epoch {epoch:5d}, train loss {losses_train[epoch]:.6f}, train error {errors_train[epoch]:3.2f},  val loss {losses_val[epoch]:.6f}, percent error {errors_val[epoch]:3.2f}')\n",
    "\n",
    "  # tell scheduler to consider updating learning rate\n",
    "  scheduler.step()\n",
    "\n",
    "# Plot the results\n",
    "fig, ax = plt.subplots()\n",
    "ax.plot(errors_train,'r-',label='train')\n",
    "ax.plot(errors_val,'b-',label='validation')\n",
    "ax.set_ylim(0,100); ax.set_xlim(0,n_epoch)\n",
    "ax.set_xlabel('Epoch'); ax.set_ylabel('Error')\n",
    "ax.set_title('Part I: Validation Result %3.2f'%(errors_val[-1]))\n",
    "ax.legend()\n",
    "plt.show()"
   ]
  },
  {
   "cell_type": "markdown",
   "metadata": {
    "deletable": false,
    "editable": false,
    "nbgrader": {
     "cell_type": "markdown",
     "checksum": "f98124720f6b6c6797ca4f0c0c078e95",
     "grade": false,
     "grade_id": "cell-f9aedc7087a3d938",
     "locked": true,
     "schema_version": 3,
     "solution": false,
     "task": false
    }
   },
   "source": [
    "Compare the number of parameters from the model summary above and the test error\n",
    "with the fully connected model in 8_1_MNIST_1D_Performance.ipynb."
   ]
  },
  {
   "cell_type": "markdown",
   "metadata": {},
   "source": [
    "This model (CNN) has many less parameters (2,050) than the fully-connected network (15,210). Additionally, the CNN has a test error (0.45) much lower than the fully-connected network (1.68)."
   ]
  }
 ],
 "metadata": {
  "colab": {
   "authorship_tag": "ABX9TyNJodaaCLMRWL9vTl8B/iLI",
   "include_colab_link": true,
   "provenance": []
  },
  "kernelspec": {
   "display_name": "Python 3 (ipykernel)",
   "language": "python",
   "name": "python3"
  },
  "language_info": {
   "codemirror_mode": {
    "name": "ipython",
    "version": 3
   },
   "file_extension": ".py",
   "mimetype": "text/x-python",
   "name": "python",
   "nbconvert_exporter": "python",
   "pygments_lexer": "ipython3",
   "version": "3.12.1"
  }
 },
 "nbformat": 4,
 "nbformat_minor": 4
}

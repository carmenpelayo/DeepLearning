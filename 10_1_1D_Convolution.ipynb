{
 "cells": [
  {
   "cell_type": "markdown",
   "metadata": {},
   "source": [
    "While editing this notebook, don't change cell types as that confuses the autograder.\n",
    "\n",
    "Before you turn this notebook in, make sure everything runs as expected. First, **restart the kernel** (in the menubar, select Kernel $\\rightarrow$ Restart) and then **run all cells** (in the menubar, select Cell $\\rightarrow$ Run All).\n",
    "\n",
    "Make sure you fill in any place that says `YOUR CODE HERE` or \"YOUR ANSWER HERE\", as well as your name below:"
   ]
  },
  {
   "cell_type": "code",
   "execution_count": 1,
   "metadata": {},
   "outputs": [],
   "source": [
    "NAME = \"Carmen Pelayo Fernández\""
   ]
  },
  {
   "cell_type": "markdown",
   "metadata": {},
   "source": [
    "_Understanding Deep Learning_"
   ]
  },
  {
   "cell_type": "markdown",
   "metadata": {},
   "source": [
    "---"
   ]
  },
  {
   "cell_type": "markdown",
   "metadata": {
    "colab_type": "text",
    "id": "view-in-github"
   },
   "source": [
    "<a href=\"https://colab.research.google.com/github/DL4DS/sp2024_notebooks/blob/main/release/nbs10/10_1_1D_Convolution.ipynb\" target=\"_parent\"><img src=\"https://colab.research.google.com/assets/colab-badge.svg\" alt=\"Open In Colab\"/></a>"
   ]
  },
  {
   "cell_type": "markdown",
   "metadata": {
    "deletable": false,
    "editable": false,
    "id": "el8l05WQEO46",
    "nbgrader": {
     "cell_type": "markdown",
     "checksum": "d9ae6b12314f8ad7ca445fb22c009316",
     "grade": false,
     "grade_id": "cell-5da97223b6cf2f1a",
     "locked": true,
     "schema_version": 3,
     "solution": false,
     "task": false
    }
   },
   "source": [
    "# Notebook 10.1: 1D Convolution\n",
    "\n",
    "This notebook investigates 1D convolutional layers.\n",
    "\n",
    "Adapted from notebooks at https://github.com/udlbook/udlbook."
   ]
  },
  {
   "cell_type": "markdown",
   "metadata": {
    "deletable": false,
    "editable": false,
    "id": "ggQrHkFZcUiV",
    "nbgrader": {
     "cell_type": "markdown",
     "checksum": "fecb03e568a66f8e19664f2c7a7bc1bf",
     "grade": false,
     "grade_id": "cell-2c8a90f301665b3a",
     "locked": true,
     "schema_version": 3,
     "solution": false,
     "task": false
    }
   },
   "source": [
    "> Note: A convolutional filter with no spaces between the elements (i.e. a normal filter without dilation) as denoted as having dilation of one."
   ]
  },
  {
   "cell_type": "code",
   "execution_count": 2,
   "metadata": {
    "deletable": false,
    "editable": false,
    "id": "nw7k5yCtOzoK",
    "nbgrader": {
     "cell_type": "code",
     "checksum": "fc4dcc6858b88f3275a3f8aef514afd9",
     "grade": false,
     "grade_id": "cell-abf21b323c194392",
     "locked": true,
     "schema_version": 3,
     "solution": false,
     "task": false
    }
   },
   "outputs": [],
   "source": [
    "import numpy as np\n",
    "import matplotlib.pyplot as plt"
   ]
  },
  {
   "cell_type": "markdown",
   "metadata": {
    "deletable": false,
    "editable": false,
    "nbgrader": {
     "cell_type": "markdown",
     "checksum": "0b4aafd81abbf98737f860a7eaf2d084",
     "grade": false,
     "grade_id": "cell-9780d7051344484c",
     "locked": true,
     "schema_version": 3,
     "solution": false,
     "task": false
    }
   },
   "source": [
    "## Define a Signal"
   ]
  },
  {
   "cell_type": "code",
   "execution_count": 3,
   "metadata": {
    "deletable": false,
    "editable": false,
    "id": "lSSHuoEqO3Ly",
    "nbgrader": {
     "cell_type": "code",
     "checksum": "defb24310d4821003cf14f0646484651",
     "grade": false,
     "grade_id": "cell-a2454ba21d15d4f5",
     "locked": true,
     "schema_version": 3,
     "solution": false,
     "task": false
    }
   },
   "outputs": [],
   "source": [
    "# Define a signal that we can apply convolution to\n",
    "x = [5.2, 5.3, 5.4, 5.1, 10.1, 10.3, 9.9, 10.3, 3.2, 3.4, 3.3, 3.1]"
   ]
  },
  {
   "cell_type": "code",
   "execution_count": 4,
   "metadata": {
    "deletable": false,
    "editable": false,
    "id": "zVssv_wiREc2",
    "nbgrader": {
     "cell_type": "code",
     "checksum": "5e946e3d46e240fa891faa98339ddfca",
     "grade": false,
     "grade_id": "cell-a7bd96012612f63d",
     "locked": true,
     "schema_version": 3,
     "solution": false,
     "task": false
    }
   },
   "outputs": [
    {
     "data": {
      "image/png": "[encoded data removed]",
      "text/plain": [
       "<Figure size 640x480 with 1 Axes>"
      ]
     },
     "metadata": {},
     "output_type": "display_data"
    }
   ],
   "source": [
    "# Draw the signal\n",
    "fig,ax = plt.subplots()\n",
    "ax.plot(x, 'k-')\n",
    "ax.set_xlim(0,11)\n",
    "ax.set_ylim(0, 12)\n",
    "plt.show()"
   ]
  },
  {
   "cell_type": "markdown",
   "metadata": {
    "deletable": false,
    "editable": false,
    "nbgrader": {
     "cell_type": "markdown",
     "checksum": "028fce049fd06868bfd10c9f569f855e",
     "grade": false,
     "grade_id": "cell-1d9d0a884443d97c",
     "locked": true,
     "schema_version": 3,
     "solution": false,
     "task": false
    }
   },
   "source": [
    "## A 3/1/1 Convolution\n",
    "\n",
    "- kernel size: 3\n",
    "- stride: 1\n",
    "- dilation: 1"
   ]
  },
  {
   "cell_type": "code",
   "execution_count": 5,
   "metadata": {
    "deletable": false,
    "id": "MmfXED12RvNq",
    "nbgrader": {
     "cell_type": "code",
     "checksum": "ccc8601d6cd1e9c8987538b64861deb2",
     "grade": false,
     "grade_id": "cell-79afd2b9ee91c840",
     "locked": false,
     "schema_version": 3,
     "solution": true,
     "task": false
    }
   },
   "outputs": [],
   "source": [
    "# Now let's define a zero-padded convolution operation\n",
    "# with a convolution kernel size of 3, a stride of 1, and a dilation of 1\n",
    "# as in figure 10.2a-c.  Write it yourself, don't call a library routine!\n",
    "# Don't forget that Python arrays are indexed from zero, not from 1 as in the book figures\n",
    "def conv_3_1_1_zp(x_in, omega):\n",
    "    x_out = np.zeros_like(x_in)\n",
    "    for i in range(len(x_in)):\n",
    "        if i == 0:\n",
    "            x_out[i] = x_in[i] * omega[1] + x_in[i+1] * omega[2]\n",
    "        elif i == len(x_in) - 1:\n",
    "            x_out[i] = x_in[i-1] * omega[0] +  x_in[i] * omega[1]\n",
    "        else:\n",
    "            x_out[i] = x_in[i-1] * omega[0] + x_in[i] * omega[1] + x_in[i+1] * omega[2]\n",
    "    return x_out"
   ]
  },
  {
   "cell_type": "markdown",
   "metadata": {
    "deletable": false,
    "editable": false,
    "id": "Fof_Rs98Zovq",
    "nbgrader": {
     "cell_type": "markdown",
     "checksum": "390190657b5f333fddaf78da5f8ce092",
     "grade": false,
     "grade_id": "cell-9b5f801f549c3b2b",
     "locked": true,
     "schema_version": 3,
     "solution": false,
     "task": false
    }
   },
   "source": [
    "Now let's see what kind of things convolution can do\n",
    "First, it can average nearby values, smoothing the function:"
   ]
  },
  {
   "cell_type": "code",
   "execution_count": 6,
   "metadata": {
    "deletable": false,
    "editable": false,
    "id": "HOcPZR6iWXsa",
    "nbgrader": {
     "cell_type": "code",
     "checksum": "f83eb5400b6fe9234f85fd0e0624e00b",
     "grade": false,
     "grade_id": "cell-88cc886610f0d13b",
     "locked": true,
     "schema_version": 3,
     "solution": false,
     "task": false
    }
   },
   "outputs": [
    {
     "name": "stdout",
     "output_type": "stream",
     "text": [
      "Sum of output is 71.1, should be 71.1\n"
     ]
    },
    {
     "data": {
      "image/png": "[encoded data removed]",
      "text/plain": [
       "<Figure size 640x480 with 1 Axes>"
      ]
     },
     "metadata": {},
     "output_type": "display_data"
    }
   ],
   "source": [
    "\n",
    "omega = [0.33,0.33,0.33]\n",
    "h = conv_3_1_1_zp(x, omega)\n",
    "\n",
    "# Check that you have computed this correctly\n",
    "print(f\"Sum of output is {np.sum(h):3.3}, should be 71.1\")\n",
    "\n",
    "# Draw the signal\n",
    "fig,ax = plt.subplots()\n",
    "ax.plot(x, 'k-',label='before')\n",
    "ax.plot(h, 'r-',label='after')\n",
    "ax.set_xlim(0,11)\n",
    "ax.set_ylim(0, 12)\n",
    "ax.legend()\n",
    "plt.show()"
   ]
  },
  {
   "cell_type": "code",
   "execution_count": 7,
   "metadata": {
    "deletable": false,
    "editable": false,
    "nbgrader": {
     "cell_type": "code",
     "checksum": "e79e30eef16aa8fd62147f751a09345b",
     "grade": true,
     "grade_id": "cell-d7c4326df6133552",
     "locked": true,
     "points": 1,
     "schema_version": 3,
     "solution": false,
     "task": false
    }
   },
   "outputs": [],
   "source": [
    "assert np.isclose(np.sum(h), 71.1, atol=0.1), \"Sum of output is not correct\""
   ]
  },
  {
   "cell_type": "markdown",
   "metadata": {
    "deletable": false,
    "editable": false,
    "id": "PBkNKUylZr-k",
    "nbgrader": {
     "cell_type": "markdown",
     "checksum": "bc819892318bb3c85912e5734b3f821a",
     "grade": false,
     "grade_id": "cell-3baa61cac2ea12b3",
     "locked": true,
     "schema_version": 3,
     "solution": false,
     "task": false
    }
   },
   "source": [
    "Notice how the red function is a smoothed version of the black one as it has averaged adjacent values.  The first and last outputs are considerably lower than the original curve though.  Make sure that you understand why!<br><br>\n",
    "\n",
    "With different weights, the convolution can be used to find sharp changes in the function:"
   ]
  },
  {
   "cell_type": "code",
   "execution_count": 8,
   "metadata": {
    "deletable": false,
    "editable": false,
    "id": "o8T5WKeuZrgS",
    "nbgrader": {
     "cell_type": "code",
     "checksum": "d0850085c7f295144d996f03f4c66ec0",
     "grade": false,
     "grade_id": "cell-c3974a7f23b61af3",
     "locked": true,
     "schema_version": 3,
     "solution": false,
     "task": false
    }
   },
   "outputs": [
    {
     "data": {
      "image/png": "[encoded data removed]",
      "text/plain": [
       "<Figure size 640x480 with 1 Axes>"
      ]
     },
     "metadata": {},
     "output_type": "display_data"
    }
   ],
   "source": [
    "omega = [-0.5,0,0.5]\n",
    "h2 = conv_3_1_1_zp(x, omega)\n",
    "\n",
    "# Draw the signal\n",
    "fig,ax = plt.subplots()\n",
    "ax.plot(x, 'k-',label='before')\n",
    "ax.plot(h2, 'r-',label='after')\n",
    "ax.set_xlim(0,11)\n",
    "# ax.set_ylim(0, 12)\n",
    "ax.legend()\n",
    "plt.show()"
   ]
  },
  {
   "cell_type": "code",
   "execution_count": 9,
   "metadata": {
    "deletable": false,
    "editable": false,
    "nbgrader": {
     "cell_type": "code",
     "checksum": "ea4287e36fadc5c2c9131d233f7f1e30",
     "grade": true,
     "grade_id": "cell-94d64e00b85a6414",
     "locked": true,
     "points": 1,
     "schema_version": 3,
     "solution": false,
     "task": false
    }
   },
   "outputs": [],
   "source": [
    "assert np.isclose(np.sum(h2), -1.05, atol=0.1), \"Sum of output is not correct\""
   ]
  },
  {
   "cell_type": "markdown",
   "metadata": {
    "deletable": false,
    "editable": false,
    "id": "ogfCVThJgtPx",
    "nbgrader": {
     "cell_type": "markdown",
     "checksum": "b1801e3ac11648e149cd7538bbcd465d",
     "grade": false,
     "grade_id": "cell-e2a8c083ed65dfc8",
     "locked": true,
     "schema_version": 3,
     "solution": false,
     "task": false
    }
   },
   "source": [
    "Notice that the convolution has a peak where the original function went up and trough where it went down.  It is roughly zero where the function is locally flat.  This convolution approximates a derivative.\n"
   ]
  },
  {
   "cell_type": "markdown",
   "metadata": {
    "deletable": false,
    "editable": false,
    "nbgrader": {
     "cell_type": "markdown",
     "checksum": "cc2c97123b39ff8e92783ebad59a644a",
     "grade": false,
     "grade_id": "cell-5ceb4f68f04e61f0",
     "locked": true,
     "schema_version": 3,
     "solution": false,
     "task": false
    }
   },
   "source": [
    "## A 3/2/1 Convolution\n",
    "\n",
    "Now let's define the convolutions from figure 10.3.  \n",
    "\n",
    "* kernel size: 3\n",
    "* stride: 2\n",
    "* dilation: 1"
   ]
  },
  {
   "cell_type": "code",
   "execution_count": 10,
   "metadata": {
    "deletable": false,
    "id": "5QYrQmFMiDBj",
    "nbgrader": {
     "cell_type": "code",
     "checksum": "1b9fcc1a1e5e5bedf96892140b9cf8af",
     "grade": false,
     "grade_id": "cell-bd8c2f8278f0c12c",
     "locked": false,
     "schema_version": 3,
     "solution": true,
     "task": false
    }
   },
   "outputs": [],
   "source": [
    "# Now let's define a zero-padded convolution operation\n",
    "# with a convolution kernel size of 3, a stride of 2, and a dilation of 1\n",
    "# as in figure 10.3a-b.  Write it yourself, don't call a library routine!\n",
    "def conv_3_2_1_zp(x_in, omega):\n",
    "    x_out = np.zeros((len(x_in) + 1) // 2)\n",
    "    for i in range(len(x_out)):\n",
    "        idx = 2 * i\n",
    "        if idx == 0:\n",
    "            x_out[i] = x_in[idx] * omega[1] + x_in[idx + 1] * omega[2]\n",
    "        elif idx >= len(x_in) - 1:\n",
    "            x_out[i] = x_in[idx - 1] * omega[0] + x_in[idx] * omega[1]\n",
    "        else:\n",
    "            x_out[i] = x_in[idx - 1] * omega[0] + x_in[idx] * omega[1] + (x_in[idx + 1] if idx + 1 < len(x_in) else 0) * omega[2]\n",
    "    return x_out"
   ]
  },
  {
   "cell_type": "code",
   "execution_count": 11,
   "metadata": {
    "deletable": false,
    "editable": false,
    "id": "CD96lnDHX72A",
    "nbgrader": {
     "cell_type": "code",
     "checksum": "31ab1c7ad2b78ee7c3011c5505232ee8",
     "grade": false,
     "grade_id": "cell-d22c8e822f94e6a6",
     "locked": true,
     "schema_version": 3,
     "solution": false,
     "task": false
    }
   },
   "outputs": [
    {
     "name": "stdout",
     "output_type": "stream",
     "text": [
      "[ 3.465  5.247  5.214  6.798  8.415  9.999 10.065  7.722  5.577  3.267\n",
      "  3.234  2.112]\n",
      "[ 3.465  5.214  8.415 10.065  5.577  3.234]\n"
     ]
    }
   ],
   "source": [
    "omega = [0.33,0.33,0.33]\n",
    "h3 = conv_3_2_1_zp(x, omega)\n",
    "\n",
    "# If you have done this right, the output length should be six and it should\n",
    "# contain every other value from the original convolution with stride 1\n",
    "print(h)\n",
    "print(h3)"
   ]
  },
  {
   "cell_type": "code",
   "execution_count": 12,
   "metadata": {
    "deletable": false,
    "editable": false,
    "nbgrader": {
     "cell_type": "code",
     "checksum": "882b0b415bfddb85f36295e268a7569e",
     "grade": true,
     "grade_id": "cell-cffeb297166c2fb2",
     "locked": true,
     "points": 1,
     "schema_version": 3,
     "solution": false,
     "task": false
    }
   },
   "outputs": [],
   "source": [
    "assert np.allclose(h[::2], h3), \"Output is not correct\""
   ]
  },
  {
   "cell_type": "markdown",
   "metadata": {
    "deletable": false,
    "editable": false,
    "nbgrader": {
     "cell_type": "markdown",
     "checksum": "1773c8cbe5784c2fbddef0435b1abde2",
     "grade": false,
     "grade_id": "cell-ad9e2a78c7112f5c",
     "locked": true,
     "schema_version": 3,
     "solution": false,
     "task": false
    }
   },
   "source": [
    "## A 5/1/1 Convolution\n",
    "\n",
    "* kernel size: 5\n",
    "* stride: 1\n",
    "* dilation: 1"
   ]
  },
  {
   "cell_type": "code",
   "execution_count": 13,
   "metadata": {
    "deletable": false,
    "id": "lw46-gNUjDw7",
    "nbgrader": {
     "cell_type": "code",
     "checksum": "5895f7d4260166292a279a5ee8518a76",
     "grade": false,
     "grade_id": "cell-43afee3b0c49402f",
     "locked": false,
     "schema_version": 3,
     "solution": true,
     "task": false
    }
   },
   "outputs": [],
   "source": [
    "# Now let's define a zero-padded convolution operation\n",
    "# with a convolution kernel size of 5, a stride of 1, and a dilation of 1\n",
    "# as in figure 10.3c.  Write it yourself, don't call a library routine!\n",
    "def conv_5_1_1_zp(x_in, omega):\n",
    "    x_out = np.zeros_like(x_in)\n",
    "    for i in range(len(x_in)):\n",
    "        if i == 0:\n",
    "            x_out[i] = x_in[i] * omega[2] + x_in[i+1] * omega[3] + x_in[i+2] * omega[4]\n",
    "        elif i == 1:\n",
    "             x_out[i] = x_in[i-1] * omega[1] + x_in[i] * omega[2] + x_in[i+1] * omega[3] + x_in[i+2] * omega[4]\n",
    "        elif i == len(x_in) - 2:\n",
    "            x_out[i] = x_in[i-2] * omega[0] + x_in[i-1] * omega[1] + x_in[i] * omega[2] + + x_in[i+1] * omega[3]\n",
    "        elif i == len(x_in) - 1:\n",
    "            x_out[i] = x_in[i-2] * omega[0] + x_in[i-1] * omega[1] + x_in[i] * omega[2] \n",
    "        else:\n",
    "            x_out[i] = x_in[i-2] * omega[0] + x_in[i-1] * omega[1] + x_in[i] * omega[2] + x_in[i+1] * omega[3] + x_in[i+2] * omega[4]\n",
    "    return x_out"
   ]
  },
  {
   "cell_type": "code",
   "execution_count": 14,
   "metadata": {
    "deletable": false,
    "editable": false,
    "id": "JkKBL-nFk4bf",
    "nbgrader": {
     "cell_type": "code",
     "checksum": "5bad8f54c35b930f56f9943c585474d2",
     "grade": false,
     "grade_id": "cell-5b3578ee5f2dec9e",
     "locked": true,
     "schema_version": 3,
     "solution": false,
     "task": false
    }
   },
   "outputs": [
    {
     "name": "stdout",
     "output_type": "stream",
     "text": [
      "Sum of output is 69.6, should be 69.6\n"
     ]
    },
    {
     "data": {
      "image/png": "[encoded data removed]",
      "text/plain": [
       "<Figure size 640x480 with 1 Axes>"
      ]
     },
     "metadata": {},
     "output_type": "display_data"
    }
   ],
   "source": [
    "\n",
    "omega2 = [0.2, 0.2, 0.2, 0.2, 0.2]\n",
    "h4 = conv_5_1_1_zp(x, omega2)\n",
    "\n",
    "# Check that you have computed this correctly\n",
    "print(f\"Sum of output is {np.sum(h4):3.3}, should be 69.6\")\n",
    "\n",
    "# Draw the signal\n",
    "fig,ax = plt.subplots()\n",
    "ax.plot(x, 'k-',label='before')\n",
    "ax.plot(h4, 'r-',label='after')\n",
    "ax.set_xlim(0,11)\n",
    "ax.set_ylim(0, 12)\n",
    "ax.legend()\n",
    "plt.show()"
   ]
  },
  {
   "cell_type": "code",
   "execution_count": 15,
   "metadata": {
    "deletable": false,
    "editable": false,
    "nbgrader": {
     "cell_type": "code",
     "checksum": "ab5c356ffd4680f2b901747df54e0a24",
     "grade": true,
     "grade_id": "cell-a4913e7b1e2cfd42",
     "locked": true,
     "points": 1,
     "schema_version": 3,
     "solution": false,
     "task": false
    }
   },
   "outputs": [],
   "source": [
    "assert np.isclose(np.sum(h4), 69.6, atol=0.1), \"Sum of output is not correct\""
   ]
  },
  {
   "cell_type": "markdown",
   "metadata": {
    "deletable": false,
    "editable": false,
    "nbgrader": {
     "cell_type": "markdown",
     "checksum": "530c6b5430f1c5aa547ad432dba9540b",
     "grade": false,
     "grade_id": "cell-f345d0f58a7afea1",
     "locked": true,
     "schema_version": 3,
     "solution": false,
     "task": false
    }
   },
   "source": [
    "## A 3/1/2 Convolution\n",
    "\n",
    "* kernel size: 3\n",
    "* stride: 1\n",
    "* dilation: 2"
   ]
  },
  {
   "cell_type": "code",
   "execution_count": 16,
   "metadata": {
    "deletable": false,
    "id": "_aBcW46AljI0",
    "nbgrader": {
     "cell_type": "code",
     "checksum": "a908015ff6fff096022acac810e14dff",
     "grade": false,
     "grade_id": "cell-62ab3aeff0c088fe",
     "locked": false,
     "schema_version": 3,
     "solution": true,
     "task": false
    }
   },
   "outputs": [],
   "source": [
    "# Finally let's define a zero-padded convolution operation\n",
    "# with a convolution kernel size of 3, a stride of 1, and a dilation of 2\n",
    "# as in figure 10.3d.  Write it yourself, don't call a library routine!\n",
    "# Don't forget that Python arrays are indexed from zero, not from 1 as in the book figures\n",
    "def conv_3_1_2_zp(x_in, omega):\n",
    "    x_out = np.zeros_like(x_in)\n",
    "    for i in range(len(x_in)):\n",
    "        if i == 0:\n",
    "            x_out[i] = x_in[i] * omega[1] + x_in[i+2] * omega[2]\n",
    "        elif i >= len(x_in) - 3:\n",
    "            x_out[i] = x_in[i-2] * omega[0] +  x_in[i] * omega[1]\n",
    "        else:\n",
    "            x_out[i] = x_in[i-2] * omega[0] + x_in[i] * omega[1] + x_in[i+2] * omega[2]\n",
    "    return x_out"
   ]
  },
  {
   "cell_type": "code",
   "execution_count": 17,
   "metadata": {
    "deletable": false,
    "editable": false,
    "id": "En-ByCqWlvMI",
    "nbgrader": {
     "cell_type": "code",
     "checksum": "aa8eea10d63037d38c2f7f077226c1d2",
     "grade": false,
     "grade_id": "cell-35efd9a3b7f4fa80",
     "locked": true,
     "schema_version": 3,
     "solution": false,
     "task": false
    }
   },
   "outputs": [
    {
     "name": "stdout",
     "output_type": "stream",
     "text": [
      "Sum of output is 68.3, should be 68.3\n"
     ]
    },
    {
     "data": {
      "image/png": "[encoded data removed]",
      "text/plain": [
       "<Figure size 640x480 with 1 Axes>"
      ]
     },
     "metadata": {},
     "output_type": "display_data"
    }
   ],
   "source": [
    "omega = [0.33,0.33,0.33]\n",
    "h5 = conv_3_1_2_zp(x, omega)\n",
    "\n",
    "# Check that you have computed this correctly\n",
    "print(f\"Sum of output is {np.sum(h5):3.3}, should be 68.3\")\n",
    "\n",
    "# Draw the signal\n",
    "fig,ax = plt.subplots()\n",
    "ax.plot(x, 'k-',label='before')\n",
    "ax.plot(h5, 'r-',label='after')\n",
    "ax.set_xlim(0,11)\n",
    "ax.set_ylim(0, 12)\n",
    "ax.legend()\n",
    "plt.show()"
   ]
  },
  {
   "cell_type": "code",
   "execution_count": 18,
   "metadata": {
    "deletable": false,
    "editable": false,
    "nbgrader": {
     "cell_type": "code",
     "checksum": "edddc881c0edd43a0020a724ebe6fbe5",
     "grade": true,
     "grade_id": "cell-f6d3188b9ef0bca7",
     "locked": true,
     "points": 1,
     "schema_version": 3,
     "solution": false,
     "task": false
    }
   },
   "outputs": [],
   "source": [
    "assert np.isclose(np.sum(h5), 68.3, atol=0.1), \"Sum of output is not correct\""
   ]
  },
  {
   "cell_type": "markdown",
   "metadata": {
    "deletable": false,
    "editable": false,
    "nbgrader": {
     "cell_type": "markdown",
     "checksum": "488f79bed421aa51cb9b11457e8f8a16",
     "grade": false,
     "grade_id": "cell-873191d7cff52ec7",
     "locked": true,
     "schema_version": 3,
     "solution": false,
     "task": false
    }
   },
   "source": [
    "## Convolutions as Matrices"
   ]
  },
  {
   "cell_type": "markdown",
   "metadata": {
    "deletable": false,
    "editable": false,
    "id": "loBwu125lXx1",
    "nbgrader": {
     "cell_type": "markdown",
     "checksum": "fb804548686e413485c7813c916e7772",
     "grade": false,
     "grade_id": "cell-d2e1b401499602f5",
     "locked": true,
     "schema_version": 3,
     "solution": false,
     "task": false
    }
   },
   "source": [
    "Finally, let's investigate representing convolutions as full matrices, and show we get the same answer."
   ]
  },
  {
   "cell_type": "code",
   "execution_count": 19,
   "metadata": {
    "deletable": false,
    "id": "U2RFWfGgs72j",
    "nbgrader": {
     "cell_type": "code",
     "checksum": "6f0beaece576904aa66187e216b282c9",
     "grade": false,
     "grade_id": "cell-2030de30aef582ff",
     "locked": false,
     "schema_version": 3,
     "solution": true,
     "task": false
    }
   },
   "outputs": [],
   "source": [
    "# Compute matrix in figure 10.4 d\n",
    "def get_conv_mat_3_1_1_zp(n_out, omega):\n",
    "    omega_mat = np.zeros((n_out, n_out))\n",
    "    for i in range(n_out):\n",
    "        for j in range(max(0, i - 1), min(n_out, i + 2)):\n",
    "            omega_mat[i, j] = omega[j - i + 1] if 0 <= j - i + 1 < len(omega) else 0\n",
    "    return omega_mat"
   ]
  },
  {
   "cell_type": "code",
   "execution_count": 20,
   "metadata": {
    "deletable": false,
    "editable": false,
    "id": "20IYxku8lMty",
    "nbgrader": {
     "cell_type": "code",
     "checksum": "b2a1240ec2f61f7359383d8027170851",
     "grade": false,
     "grade_id": "cell-881b6ae61e1e308f",
     "locked": true,
     "schema_version": 3,
     "solution": false,
     "task": false
    }
   },
   "outputs": [
    {
     "name": "stdout",
     "output_type": "stream",
     "text": [
      "[ 1.54 -3.63 -3.62 -4.87 -2.11 -6.93 -7.41 -5.39 -9.38 -2.16 -2.37 -1.75]\n",
      "[ 1.54 -3.63 -3.62 -4.87 -2.11 -6.93 -7.41 -5.39 -9.38 -2.16 -2.37 -1.75]\n"
     ]
    }
   ],
   "source": [
    "# Run original convolution\n",
    "omega = np.array([-1.0,0.5,-0.2])\n",
    "h6 = conv_3_1_1_zp(x, omega)\n",
    "print(h6)\n",
    "\n",
    "# If you have done this right, you should get the same answer\n",
    "omega_mat = get_conv_mat_3_1_1_zp(len(x), omega)\n",
    "h7 = np.matmul(omega_mat, x)\n",
    "print(h7)\n"
   ]
  },
  {
   "cell_type": "code",
   "execution_count": 21,
   "metadata": {
    "deletable": false,
    "editable": false,
    "nbgrader": {
     "cell_type": "code",
     "checksum": "8d3c60c1aa9342f358c6b0cef16f9d53",
     "grade": true,
     "grade_id": "cell-e0f8d5e81bff598e",
     "locked": true,
     "points": 1,
     "schema_version": 3,
     "solution": false,
     "task": false
    }
   },
   "outputs": [],
   "source": [
    "assert np.allclose(h6, h7), \"Output is not correct\""
   ]
  },
  {
   "cell_type": "code",
   "execution_count": 22,
   "metadata": {
    "deletable": false,
    "editable": false,
    "nbgrader": {
     "cell_type": "code",
     "checksum": "90452d593c03abfdd0bf8a8d2602be0d",
     "grade": false,
     "grade_id": "cell-c931503429f77dd9",
     "locked": true,
     "schema_version": 3,
     "solution": false,
     "task": false
    }
   },
   "outputs": [
    {
     "name": "stdout",
     "output_type": "stream",
     "text": [
      "[[ 0.5 -0.2  0.   0.   0.   0.   0.   0.   0.   0.   0.   0. ]\n",
      " [-1.   0.5 -0.2  0.   0.   0.   0.   0.   0.   0.   0.   0. ]\n",
      " [ 0.  -1.   0.5 -0.2  0.   0.   0.   0.   0.   0.   0.   0. ]\n",
      " [ 0.   0.  -1.   0.5 -0.2  0.   0.   0.   0.   0.   0.   0. ]\n",
      " [ 0.   0.   0.  -1.   0.5 -0.2  0.   0.   0.   0.   0.   0. ]\n",
      " [ 0.   0.   0.   0.  -1.   0.5 -0.2  0.   0.   0.   0.   0. ]\n",
      " [ 0.   0.   0.   0.   0.  -1.   0.5 -0.2  0.   0.   0.   0. ]\n",
      " [ 0.   0.   0.   0.   0.   0.  -1.   0.5 -0.2  0.   0.   0. ]\n",
      " [ 0.   0.   0.   0.   0.   0.   0.  -1.   0.5 -0.2  0.   0. ]\n",
      " [ 0.   0.   0.   0.   0.   0.   0.   0.  -1.   0.5 -0.2  0. ]\n",
      " [ 0.   0.   0.   0.   0.   0.   0.   0.   0.  -1.   0.5 -0.2]\n",
      " [ 0.   0.   0.   0.   0.   0.   0.   0.   0.   0.  -1.   0.5]]\n"
     ]
    }
   ],
   "source": [
    "print(omega_mat)"
   ]
  },
  {
   "cell_type": "markdown",
   "metadata": {
    "deletable": false,
    "editable": false,
    "id": "rYoQVhBfu8R4",
    "nbgrader": {
     "cell_type": "markdown",
     "checksum": "d686c84e01971e9a6c061e9e53f7df83",
     "grade": false,
     "grade_id": "cell-5e1d5fabb74ecffa",
     "locked": true,
     "schema_version": 3,
     "solution": false,
     "task": false
    }
   },
   "source": [
    "TODO:  What do you expect to happen if we apply the last convolution twice?  Can this be represented as a single convolution?  If so, then what is it?"
   ]
  },
  {
   "cell_type": "markdown",
   "metadata": {},
   "source": [
    "The omega matrix will convolve with itself. Therefore, applying the convolution to the signal matrix twice is equivalent to applying a convolved omega to the original signal matrix. To convolve the omega matrix with itself, we'll multiply omega by itself, resulting in an omega of kernel size=5."
   ]
  },
  {
   "cell_type": "code",
   "execution_count": 23,
   "metadata": {
    "deletable": false,
    "nbgrader": {
     "cell_type": "code",
     "checksum": "767ae51e2798f0c92c5374634d3339ea",
     "grade": false,
     "grade_id": "cell-7b257dcab2cab9c7",
     "locked": false,
     "schema_version": 3,
     "solution": true,
     "task": false
    }
   },
   "outputs": [
    {
     "name": "stdout",
     "output_type": "stream",
     "text": [
      "[ 1.496 -2.631  2.794  1.607  5.201  0.127  4.303  6.591  1.132  8.774\n",
      "  1.325  1.495]\n",
      "[ 1.496 -2.631  2.794  1.607  5.201  0.127  4.303  6.591  1.132  8.774\n",
      "  1.325  1.495]\n",
      "[ 1.496 -2.631  2.794  1.607  5.201  0.127  4.303  6.591  1.132  8.774\n",
      "  1.325  1.495]\n"
     ]
    }
   ],
   "source": [
    "# Apply the matrix to x twice\n",
    "h7 = np.matmul(omega_mat, x)   # recalculate h7\n",
    "h8 = np.matmul(omega_mat, h7)\n",
    "print(h8)\n",
    "\n",
    "# Create an omega_mat2 that when applied to x gives the same results as convolving\n",
    "# omega_mat with x twice.\n",
    "omega_mat2 = np.matmul(omega_mat, omega_mat)\n",
    "\n",
    "h9 = np.matmul(omega_mat2, x)\n",
    "print(h9)\n",
    "\n",
    "h6 = conv_3_1_1_zp(x, omega)  # recalculate h6\n",
    "h10 = conv_3_1_1_zp(h6, omega)\n",
    "print(h10)"
   ]
  },
  {
   "cell_type": "code",
   "execution_count": 24,
   "metadata": {
    "deletable": false,
    "editable": false,
    "nbgrader": {
     "cell_type": "code",
     "checksum": "9c816d9a49fb760fb1cb3be6c7c3d286",
     "grade": true,
     "grade_id": "cell-0a0af383ed825f38",
     "locked": true,
     "points": 1,
     "schema_version": 3,
     "solution": false,
     "task": false
    }
   },
   "outputs": [],
   "source": [
    "assert np.allclose(h8, h9), \"Output is not correct\""
   ]
  },
  {
   "cell_type": "code",
   "execution_count": 25,
   "metadata": {
    "deletable": false,
    "editable": false,
    "nbgrader": {
     "cell_type": "code",
     "checksum": "8866fb887b7b994bf00dd6b02b0bcf2b",
     "grade": false,
     "grade_id": "cell-2af8e4efde734ca0",
     "locked": true,
     "schema_version": 3,
     "solution": false,
     "task": false
    }
   },
   "outputs": [
    {
     "name": "stdout",
     "output_type": "stream",
     "text": [
      "[[ 0.45 -0.2   0.04  0.    0.    0.    0.    0.    0.    0.    0.    0.  ]\n",
      " [-1.    0.65 -0.2   0.04  0.    0.    0.    0.    0.    0.    0.    0.  ]\n",
      " [ 1.   -1.    0.65 -0.2   0.04  0.    0.    0.    0.    0.    0.    0.  ]\n",
      " [ 0.    1.   -1.    0.65 -0.2   0.04  0.    0.    0.    0.    0.    0.  ]\n",
      " [ 0.    0.    1.   -1.    0.65 -0.2   0.04  0.    0.    0.    0.    0.  ]\n",
      " [ 0.    0.    0.    1.   -1.    0.65 -0.2   0.04  0.    0.    0.    0.  ]\n",
      " [ 0.    0.    0.    0.    1.   -1.    0.65 -0.2   0.04  0.    0.    0.  ]\n",
      " [ 0.    0.    0.    0.    0.    1.   -1.    0.65 -0.2   0.04  0.    0.  ]\n",
      " [ 0.    0.    0.    0.    0.    0.    1.   -1.    0.65 -0.2   0.04  0.  ]\n",
      " [ 0.    0.    0.    0.    0.    0.    0.    1.   -1.    0.65 -0.2   0.04]\n",
      " [ 0.    0.    0.    0.    0.    0.    0.    0.    1.   -1.    0.65 -0.2 ]\n",
      " [ 0.    0.    0.    0.    0.    0.    0.    0.    0.    1.   -1.    0.45]]\n"
     ]
    }
   ],
   "source": [
    "print(omega_mat2)"
   ]
  }
 ],
 "metadata": {
  "colab": {
   "authorship_tag": "ABX9TyML7rfAGE4gvmNUEiK5x3PS",
   "include_colab_link": true,
   "provenance": []
  },
  "kernelspec": {
   "display_name": "Python 3 (ipykernel)",
   "language": "python",
   "name": "python3"
  },
  "language_info": {
   "codemirror_mode": {
    "name": "ipython",
    "version": 3
   },
   "file_extension": ".py",
   "mimetype": "text/x-python",
   "name": "python",
   "nbconvert_exporter": "python",
   "pygments_lexer": "ipython3",
   "version": "3.12.1"
  }
 },
 "nbformat": 4,
 "nbformat_minor": 4
}

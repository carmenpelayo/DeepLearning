{
 "cells": [
  {
   "cell_type": "markdown",
   "metadata": {},
   "source": [
    "While editing this notebook, don't change cell types as that confuses the autograder.\n",
    "\n",
    "Before you turn this notebook in, make sure everything runs as expected. First, **restart the kernel** (in the menubar, select Kernel $\\rightarrow$ Restart) and then **run all cells** (in the menubar, select Cell $\\rightarrow$ Run All).\n",
    "\n",
    "Make sure you fill in any place that says `YOUR CODE HERE` or \"YOUR ANSWER HERE\", as well as your name below:"
   ]
  },
  {
   "cell_type": "code",
   "execution_count": 1,
   "metadata": {},
   "outputs": [],
   "source": [
    "NAME = \"Carmen Pelayo Fernández\""
   ]
  },
  {
   "cell_type": "markdown",
   "metadata": {},
   "source": [
    "_Understanding Deep Learning_"
   ]
  },
  {
   "cell_type": "markdown",
   "metadata": {},
   "source": [
    "---"
   ]
  },
  {
   "cell_type": "markdown",
   "metadata": {
    "colab_type": "text",
    "id": "view-in-github"
   },
   "source": [
    "<a href=\"https://colab.research.google.com/github/DL4DS/sp2024_notebooks/blob/main/release/nbs08/8_1_MNIST_1D_Performance.ipynb\" target=\"_parent\"><img src=\"https://colab.research.google.com/assets/colab-badge.svg\" alt=\"Open In Colab\"/></a>"
   ]
  },
  {
   "cell_type": "markdown",
   "metadata": {
    "deletable": false,
    "editable": false,
    "id": "L6chybAVFJW2",
    "nbgrader": {
     "cell_type": "markdown",
     "checksum": "c977ea3a5ad31e465e3f4724ee56827f",
     "grade": false,
     "grade_id": "cell-c6db64138a35360e",
     "locked": true,
     "schema_version": 3,
     "solution": false,
     "task": false
    }
   },
   "source": [
    "# Notebook 8.1: MNIST_1D_Performance\n",
    "\n",
    "This notebook runs a simple neural network on the MNIST1D dataset as in figure 8.2a.\n",
    "It uses code from https://github.com/greydanus/mnist1d to generate the data.\n",
    "\n",
    "Adapted from notebooks at https://github.com/udlbook/udlbook."
   ]
  },
  {
   "cell_type": "code",
   "execution_count": 2,
   "metadata": {
    "deletable": false,
    "editable": false,
    "id": "ifVjS4cTOqKz",
    "nbgrader": {
     "cell_type": "code",
     "checksum": "7e2245a636bf0bcb277f3b92afee779d",
     "grade": false,
     "grade_id": "cell-b46b7d9b220f41a3",
     "locked": true,
     "schema_version": 3,
     "solution": false,
     "task": false
    }
   },
   "outputs": [],
   "source": [
    "# Clone the mnist1d repository if it doesn't exist\n",
    "import os\n",
    "\n",
    "if not os.path.exists('mnist1d'):\n",
    "    !git clone https://github.com/greydanus/mnist1d"
   ]
  },
  {
   "cell_type": "code",
   "execution_count": 3,
   "metadata": {},
   "outputs": [],
   "source": [
    "# when running on Colab, we need to install torchinfo.\n",
    "# if you are running locally, you can install this package in your local environment\n",
    "#!pip install torchinfo"
   ]
  },
  {
   "cell_type": "code",
   "execution_count": 4,
   "metadata": {},
   "outputs": [],
   "source": [
    "#!pip install scipy"
   ]
  },
  {
   "cell_type": "code",
   "execution_count": 5,
   "metadata": {
    "deletable": false,
    "editable": false,
    "id": "qyE7G1StPIqO",
    "nbgrader": {
     "cell_type": "code",
     "checksum": "374c08d9c5dca37a8e4d7ffd9a4a8ab1",
     "grade": false,
     "grade_id": "cell-2cb6e8f6902507e8",
     "locked": true,
     "schema_version": 3,
     "solution": false,
     "task": false
    }
   },
   "outputs": [],
   "source": [
    "import torch, torch.nn as nn\n",
    "from torch.utils.data import TensorDataset, DataLoader\n",
    "from torch.optim.lr_scheduler import StepLR\n",
    "import numpy as np\n",
    "import matplotlib.pyplot as plt\n",
    "import mnist1d\n",
    "from torchinfo import summary"
   ]
  },
  {
   "cell_type": "markdown",
   "metadata": {
    "deletable": false,
    "editable": false,
    "id": "F7LNq72SP6jO",
    "nbgrader": {
     "cell_type": "markdown",
     "checksum": "b5c314f2077f9bffdc3a85a90eeb22de",
     "grade": false,
     "grade_id": "cell-704a4ceef22ef029",
     "locked": true,
     "schema_version": 3,
     "solution": false,
     "task": false
    }
   },
   "source": [
    "Let's generate a training and test dataset using the MNIST1D code.  The dataset gets saved as a .pkl file so it doesn't have to be regenerated each time."
   ]
  },
  {
   "cell_type": "code",
   "execution_count": 6,
   "metadata": {
    "deletable": false,
    "editable": false,
    "id": "YLxf7dJfPaqw",
    "nbgrader": {
     "cell_type": "code",
     "checksum": "19cc36d8d8d27e3713c544d0036830f6",
     "grade": false,
     "grade_id": "cell-4cb95d0b5fbb733e",
     "locked": true,
     "schema_version": 3,
     "solution": false,
     "task": false
    }
   },
   "outputs": [
    {
     "name": "stdout",
     "output_type": "stream",
     "text": [
      "Successfully loaded data from ./mnist1d_data.pkl\n",
      "Examples in training set: 4000\n",
      "Examples in test set: 1000\n",
      "Length of each example: 40\n"
     ]
    }
   ],
   "source": [
    "args = mnist1d.data.get_dataset_args()\n",
    "data = mnist1d.data.get_dataset(args, path='./mnist1d_data.pkl', download=False, regenerate=False)\n",
    "\n",
    "# The training and test input and outputs are in\n",
    "# data['x'], data['y'], data['x_test'], and data['y_test']\n",
    "print(\"Examples in training set: {}\".format(len(data['y'])))\n",
    "print(\"Examples in test set: {}\".format(len(data['y_test'])))\n",
    "print(\"Length of each example: {}\".format(data['x'].shape[-1]))"
   ]
  },
  {
   "cell_type": "code",
   "execution_count": 9,
   "metadata": {
    "deletable": false,
    "id": "FxaB5vc0uevl",
    "nbgrader": {
     "cell_type": "code",
     "checksum": "6841a41895a1e7d5a9d2ba882939d9e4",
     "grade": false,
     "grade_id": "cell-7c3ea9378860d4b0",
     "locked": false,
     "schema_version": 3,
     "solution": true,
     "task": false
    }
   },
   "outputs": [
    {
     "name": "stdout",
     "output_type": "stream",
     "text": [
      "Initializing layer\n",
      "Initializing layer\n",
      "Initializing layer\n",
      "Initializing layer\n",
      "Initializing layer\n",
      "Initializing layer\n"
     ]
    },
    {
     "data": {
      "text/plain": [
       "Sequential(\n",
       "  (0): Linear(in_features=40, out_features=100, bias=True)\n",
       "  (1): ReLU()\n",
       "  (2): Linear(in_features=100, out_features=100, bias=True)\n",
       "  (3): ReLU()\n",
       "  (4): Linear(in_features=100, out_features=10, bias=True)\n",
       ")"
      ]
     },
     "execution_count": 9,
     "metadata": {},
     "output_type": "execute_result"
    }
   ],
   "source": [
    "D_i = 40    # Input dimensions\n",
    "D_k = 100   # Hidden dimensions\n",
    "D_o = 10    # Output dimensions\n",
    "\n",
    "# Define a model with two hidden layers of size 100 and ReLU activations between them\n",
    "model = torch.nn.Sequential(torch.nn.Linear(D_i, D_k), \n",
    "                            torch.nn.ReLU(), \n",
    "                            torch.nn.Linear(D_k, D_k), \n",
    "                            torch.nn.ReLU(), \n",
    "                            torch.nn.Linear(D_k, D_o))\n",
    "\n",
    "# Initialize the parameters with He initialization\n",
    "def weights_init(layer_in):\n",
    "    '''He initialization initializes the bias vectors of a neural network to 0\n",
    "    and the weights to random numbers drawn from a Gaussian distribution where the mean is 0\n",
    "    and the variance is √(2/nl) where nl is the dimension of the previous layer.'''\n",
    "    \n",
    "    if isinstance(layer_in, nn.Linear): # Checks whether the input layer (layer_in) is an instance of a linear layer (nn.Linear)\n",
    "        nn.init.kaiming_normal_(layer_in.weight) # Initializes the weights of the layer using He (Kaiming) normal initialization\n",
    "        layer_in.bias.data.fill_(0.0) # Sets all elements of the bias tensor to 0.0 for the layer\n",
    "    print(\"Initializing layer\")\n",
    "\n",
    "# Call the function you just defined\n",
    "model.apply(weights_init)"
   ]
  },
  {
   "cell_type": "code",
   "execution_count": 10,
   "metadata": {
    "deletable": false,
    "editable": false,
    "nbgrader": {
     "cell_type": "code",
     "checksum": "2484fcf3416103ba6c930f55e592f86a",
     "grade": false,
     "grade_id": "cell-ff47d79f21506df4",
     "locked": true,
     "schema_version": 3,
     "solution": false,
     "task": false
    }
   },
   "outputs": [
    {
     "name": "stdout",
     "output_type": "stream",
     "text": [
      "==========================================================================================\n",
      "Layer (type:depth-idx)                   Output Shape              Param #\n",
      "==========================================================================================\n",
      "Sequential                               [1, 10]                   --\n",
      "├─Linear: 1-1                            [1, 100]                  4,100\n",
      "├─ReLU: 1-2                              [1, 100]                  --\n",
      "├─Linear: 1-3                            [1, 100]                  10,100\n",
      "├─ReLU: 1-4                              [1, 100]                  --\n",
      "├─Linear: 1-5                            [1, 10]                   1,010\n",
      "==========================================================================================\n",
      "Total params: 15,210\n",
      "Trainable params: 15,210\n",
      "Non-trainable params: 0\n",
      "Total mult-adds (Units.MEGABYTES): 0.02\n",
      "==========================================================================================\n",
      "Input size (MB): 0.00\n",
      "Forward/backward pass size (MB): 0.00\n",
      "Params size (MB): 0.06\n",
      "Estimated Total Size (MB): 0.06\n",
      "==========================================================================================\n"
     ]
    }
   ],
   "source": [
    "print(summary(model, input_size=(1, D_i), device='cpu'))"
   ]
  },
  {
   "cell_type": "code",
   "execution_count": 11,
   "metadata": {
    "deletable": false,
    "editable": false,
    "id": "_rX6N3VyyQTY",
    "nbgrader": {
     "cell_type": "code",
     "checksum": "32192e9a117a019189a65ab56ad9a33a",
     "grade": false,
     "grade_id": "cell-519ba15e1f56c6a2",
     "locked": true,
     "schema_version": 3,
     "solution": false,
     "task": false
    }
   },
   "outputs": [
    {
     "name": "stdout",
     "output_type": "stream",
     "text": [
      "Initializing layer\n",
      "Initializing layer\n",
      "Initializing layer\n",
      "Initializing layer\n",
      "Initializing layer\n",
      "Initializing layer\n",
      "Epoch     0, train loss 1.785054, train error 68.70,  test loss 1.825476, test error 72.10\n",
      "Epoch     1, train loss 1.636770, train error 62.90,  test loss 1.706042, test error 68.60\n",
      "Epoch     2, train loss 1.540001, train error 58.10,  test loss 1.637007, test error 64.60\n",
      "Epoch     3, train loss 1.463267, train error 54.25,  test loss 1.586799, test error 63.10\n",
      "Epoch     4, train loss 1.399207, train error 52.60,  test loss 1.545200, test error 61.80\n",
      "Epoch     5, train loss 1.331572, train error 48.88,  test loss 1.478475, test error 57.10\n",
      "Epoch     6, train loss 1.290618, train error 48.80,  test loss 1.473512, test error 58.40\n",
      "Epoch     7, train loss 1.238404, train error 44.62,  test loss 1.425564, test error 55.40\n",
      "Epoch     8, train loss 1.180940, train error 42.90,  test loss 1.385975, test error 54.00\n",
      "Epoch     9, train loss 1.124887, train error 39.10,  test loss 1.356890, test error 52.40\n",
      "Epoch    10, train loss 1.084601, train error 36.97,  test loss 1.330895, test error 52.50\n",
      "Epoch    11, train loss 1.086669, train error 39.75,  test loss 1.358447, test error 52.60\n",
      "Epoch    12, train loss 1.026524, train error 35.85,  test loss 1.305262, test error 52.40\n",
      "Epoch    13, train loss 1.000449, train error 35.15,  test loss 1.298283, test error 50.30\n",
      "Epoch    14, train loss 0.950450, train error 32.60,  test loss 1.255259, test error 48.80\n",
      "Epoch    15, train loss 0.911525, train error 31.03,  test loss 1.223904, test error 48.40\n",
      "Epoch    16, train loss 0.881614, train error 29.35,  test loss 1.214729, test error 46.40\n",
      "Epoch    17, train loss 0.855538, train error 28.70,  test loss 1.194843, test error 48.10\n",
      "Epoch    18, train loss 0.825778, train error 27.60,  test loss 1.186908, test error 46.50\n",
      "Epoch    19, train loss 0.818507, train error 28.30,  test loss 1.189369, test error 45.50\n",
      "Epoch    20, train loss 0.785855, train error 26.90,  test loss 1.182899, test error 46.40\n",
      "Epoch    21, train loss 0.748842, train error 24.28,  test loss 1.170233, test error 46.30\n",
      "Epoch    22, train loss 0.731045, train error 24.15,  test loss 1.183207, test error 46.50\n",
      "Epoch    23, train loss 0.707512, train error 23.30,  test loss 1.167524, test error 44.70\n",
      "Epoch    24, train loss 0.685182, train error 22.45,  test loss 1.165341, test error 44.80\n",
      "Epoch    25, train loss 0.653611, train error 20.55,  test loss 1.143813, test error 44.00\n",
      "Epoch    26, train loss 0.634450, train error 20.05,  test loss 1.158792, test error 44.20\n",
      "Epoch    27, train loss 0.611315, train error 19.00,  test loss 1.157803, test error 44.40\n",
      "Epoch    28, train loss 0.593680, train error 18.10,  test loss 1.149860, test error 43.40\n",
      "Epoch    29, train loss 0.573526, train error 17.30,  test loss 1.149759, test error 43.60\n",
      "Epoch    30, train loss 0.558199, train error 16.82,  test loss 1.136267, test error 41.20\n",
      "Epoch    31, train loss 0.548952, train error 16.78,  test loss 1.172874, test error 43.00\n",
      "Epoch    32, train loss 0.511996, train error 14.97,  test loss 1.145937, test error 43.00\n",
      "Epoch    33, train loss 0.500070, train error 14.78,  test loss 1.164616, test error 43.00\n",
      "Epoch    34, train loss 0.493719, train error 15.22,  test loss 1.188184, test error 43.70\n",
      "Epoch    35, train loss 0.459100, train error 13.00,  test loss 1.162349, test error 42.20\n",
      "Epoch    36, train loss 0.457750, train error 13.35,  test loss 1.171848, test error 42.60\n",
      "Epoch    37, train loss 0.432860, train error 12.32,  test loss 1.164294, test error 41.30\n",
      "Epoch    38, train loss 0.418066, train error 11.07,  test loss 1.173823, test error 41.40\n",
      "Epoch    39, train loss 0.400343, train error 10.53,  test loss 1.173251, test error 42.00\n",
      "Epoch    40, train loss 0.396916, train error 11.03,  test loss 1.185236, test error 42.20\n",
      "Epoch    41, train loss 0.397436, train error 11.85,  test loss 1.187460, test error 42.40\n",
      "Epoch    42, train loss 0.362507, train error 9.28,  test loss 1.181995, test error 40.80\n",
      "Epoch    43, train loss 0.350695, train error 8.72,  test loss 1.204831, test error 41.70\n",
      "Epoch    44, train loss 0.334793, train error 8.43,  test loss 1.183711, test error 40.80\n",
      "Epoch    45, train loss 0.329018, train error 8.32,  test loss 1.227999, test error 42.10\n",
      "Epoch    46, train loss 0.319032, train error 7.88,  test loss 1.238582, test error 41.40\n",
      "Epoch    47, train loss 0.304578, train error 7.15,  test loss 1.236557, test error 41.70\n",
      "Epoch    48, train loss 0.302459, train error 7.97,  test loss 1.267306, test error 42.00\n",
      "Epoch    49, train loss 0.279227, train error 5.95,  test loss 1.233523, test error 41.30\n",
      "Epoch    50, train loss 0.268567, train error 6.05,  test loss 1.244586, test error 40.60\n",
      "Epoch    51, train loss 0.272233, train error 6.68,  test loss 1.282829, test error 41.40\n",
      "Epoch    52, train loss 0.250567, train error 5.55,  test loss 1.250987, test error 41.10\n",
      "Epoch    53, train loss 0.243123, train error 4.90,  test loss 1.304950, test error 40.80\n",
      "Epoch    54, train loss 0.224901, train error 4.20,  test loss 1.266422, test error 41.00\n",
      "Epoch    55, train loss 0.232886, train error 5.07,  test loss 1.349560, test error 41.80\n",
      "Epoch    56, train loss 0.224173, train error 4.62,  test loss 1.324772, test error 40.50\n",
      "Epoch    57, train loss 0.210326, train error 3.82,  test loss 1.298181, test error 41.50\n",
      "Epoch    58, train loss 0.193354, train error 3.55,  test loss 1.320175, test error 40.90\n",
      "Epoch    59, train loss 0.186599, train error 2.85,  test loss 1.324757, test error 40.50\n",
      "Epoch    60, train loss 0.178223, train error 2.75,  test loss 1.348553, test error 40.90\n",
      "Epoch    61, train loss 0.177328, train error 2.70,  test loss 1.362327, test error 42.00\n",
      "Epoch    62, train loss 0.165543, train error 2.30,  test loss 1.339405, test error 40.50\n",
      "Epoch    63, train loss 0.159913, train error 2.03,  test loss 1.345434, test error 40.00\n",
      "Epoch    64, train loss 0.153700, train error 2.03,  test loss 1.392589, test error 41.90\n",
      "Epoch    65, train loss 0.159080, train error 2.68,  test loss 1.421821, test error 41.30\n",
      "Epoch    66, train loss 0.138906, train error 1.43,  test loss 1.368369, test error 40.20\n",
      "Epoch    67, train loss 0.130920, train error 1.10,  test loss 1.351424, test error 40.00\n",
      "Epoch    68, train loss 0.127925, train error 1.40,  test loss 1.402807, test error 40.90\n",
      "Epoch    69, train loss 0.126042, train error 1.30,  test loss 1.414364, test error 41.10\n",
      "Epoch    70, train loss 0.118166, train error 0.88,  test loss 1.417303, test error 40.00\n",
      "Epoch    71, train loss 0.109756, train error 0.72,  test loss 1.430353, test error 40.40\n",
      "Epoch    72, train loss 0.103883, train error 0.62,  test loss 1.443819, test error 40.60\n",
      "Epoch    73, train loss 0.114249, train error 1.45,  test loss 1.493424, test error 40.90\n",
      "Epoch    74, train loss 0.094586, train error 0.35,  test loss 1.439231, test error 39.10\n",
      "Epoch    75, train loss 0.094915, train error 0.45,  test loss 1.503795, test error 40.30\n",
      "Epoch    76, train loss 0.090667, train error 0.43,  test loss 1.477051, test error 40.30\n",
      "Epoch    77, train loss 0.086035, train error 0.43,  test loss 1.508094, test error 40.30\n",
      "Epoch    78, train loss 0.082695, train error 0.30,  test loss 1.530999, test error 40.70\n",
      "Epoch    79, train loss 0.077466, train error 0.25,  test loss 1.513932, test error 40.70\n",
      "Epoch    80, train loss 0.078988, train error 0.30,  test loss 1.545051, test error 40.40\n",
      "Epoch    81, train loss 0.071599, train error 0.15,  test loss 1.538035, test error 41.20\n",
      "Epoch    82, train loss 0.078322, train error 0.47,  test loss 1.590498, test error 41.10\n",
      "Epoch    83, train loss 0.069948, train error 0.18,  test loss 1.557580, test error 39.70\n",
      "Epoch    84, train loss 0.067506, train error 0.18,  test loss 1.576965, test error 40.60\n",
      "Epoch    85, train loss 0.074111, train error 0.38,  test loss 1.585914, test error 40.30\n",
      "Epoch    86, train loss 0.065025, train error 0.15,  test loss 1.600488, test error 39.70\n",
      "Epoch    87, train loss 0.058223, train error 0.05,  test loss 1.585726, test error 40.60\n",
      "Epoch    88, train loss 0.056212, train error 0.05,  test loss 1.607515, test error 40.30\n",
      "Epoch    89, train loss 0.057365, train error 0.07,  test loss 1.614864, test error 40.00\n",
      "Epoch    90, train loss 0.053290, train error 0.00,  test loss 1.599655, test error 39.40\n",
      "Epoch    91, train loss 0.049781, train error 0.03,  test loss 1.644758, test error 40.60\n",
      "Epoch    92, train loss 0.048135, train error 0.00,  test loss 1.652130, test error 40.60\n",
      "Epoch    93, train loss 0.046518, train error 0.00,  test loss 1.656062, test error 40.30\n",
      "Epoch    94, train loss 0.044390, train error 0.03,  test loss 1.649788, test error 40.50\n",
      "Epoch    95, train loss 0.044762, train error 0.03,  test loss 1.677241, test error 40.30\n",
      "Epoch    96, train loss 0.044548, train error 0.00,  test loss 1.681950, test error 39.80\n",
      "Epoch    97, train loss 0.040557, train error 0.00,  test loss 1.678704, test error 39.70\n",
      "Epoch    98, train loss 0.040053, train error 0.00,  test loss 1.700928, test error 40.10\n",
      "Epoch    99, train loss 0.039628, train error 0.00,  test loss 1.686738, test error 39.40\n"
     ]
    }
   ],
   "source": [
    "# choose cross entropy loss function (equation 5.24)\n",
    "loss_function = torch.nn.CrossEntropyLoss()\n",
    "\n",
    "# construct SGD optimizer and initialize learning rate and momentum\n",
    "# original lr = 0.05, momentum = 0.9\n",
    "optimizer = torch.optim.SGD(model.parameters(), lr = 0.1)\n",
    "\n",
    "# object that decreases learning rate by half every 10 epochs\n",
    "scheduler = StepLR(optimizer, step_size=10, gamma=0.5)\n",
    "\n",
    "# create 100 dummy data points and store in data loader class\n",
    "x_train = torch.tensor(data['x'].astype('float32'))\n",
    "y_train = torch.tensor(data['y'].transpose().astype('long'))\n",
    "x_test = torch.tensor(data['x_test'].astype('float32'))\n",
    "y_test = torch.tensor(data['y_test'].astype('long'))\n",
    "\n",
    "# load the data into a class that creates the batches\n",
    "data_loader = DataLoader(TensorDataset(x_train, y_train), batch_size=100, shuffle=True, worker_init_fn = np.random.seed(1))\n",
    "\n",
    "# Initialize model weights\n",
    "model.apply(weights_init)\n",
    "\n",
    "# loop over the dataset n_epoch times\n",
    "n_epoch = 100 # was 50\n",
    "# store the loss and the % correct at each epoch\n",
    "losses_train = np.zeros((n_epoch))\n",
    "errors_train = np.zeros((n_epoch))\n",
    "losses_test = np.zeros((n_epoch))\n",
    "errors_test = np.zeros((n_epoch))\n",
    "\n",
    "for epoch in range(n_epoch):\n",
    "  # loop over batches\n",
    "  for i, batch in enumerate(data_loader):\n",
    "    # retrieve inputs and labels for this batch\n",
    "    x_batch, y_batch = batch\n",
    "    # zero the parameter gradients\n",
    "    optimizer.zero_grad() #why???\n",
    "    # forward pass -- calculate model output\n",
    "    pred = model(x_batch)\n",
    "    # compute the loss\n",
    "    loss = loss_function(pred, y_batch)\n",
    "    # backward pass\n",
    "    loss.backward()\n",
    "    # SGD update\n",
    "    optimizer.step()\n",
    "\n",
    "  # Run whole dataset to get statistics -- normally wouldn't do this\n",
    "  pred_train = model(x_train)\n",
    "  pred_test = model(x_test)\n",
    "  _, predicted_train_class = torch.max(pred_train.data, 1)\n",
    "  _, predicted_test_class = torch.max(pred_test.data, 1)\n",
    "  errors_train[epoch] = 100 - 100 * (predicted_train_class == y_train).float().sum() / len(y_train)\n",
    "  errors_test[epoch]= 100 - 100 * (predicted_test_class == y_test).float().sum() / len(y_test)\n",
    "  losses_train[epoch] = loss_function(pred_train, y_train).item()\n",
    "  losses_test[epoch]= loss_function(pred_test, y_test).item()\n",
    "  print(f'Epoch {epoch:5d}, train loss {losses_train[epoch]:.6f}, train error {errors_train[epoch]:3.2f},  test loss {losses_test[epoch]:.6f}, test error {errors_test[epoch]:3.2f}')\n",
    "\n",
    "  # tell scheduler to consider updating learning rate\n",
    "  # scheduler.step()"
   ]
  },
  {
   "cell_type": "code",
   "execution_count": 12,
   "metadata": {
    "deletable": false,
    "editable": false,
    "nbgrader": {
     "cell_type": "code",
     "checksum": "4454db8bb00838cc44e7c26537c53f2f",
     "grade": true,
     "grade_id": "cell-754a905982bc643d",
     "locked": true,
     "points": 4,
     "schema_version": 3,
     "solution": false,
     "task": false
    }
   },
   "outputs": [],
   "source": [
    "# Your trained model should satisfy these limits\n",
    "# Do not modify this cell\n",
    "\n",
    "assert losses_train[-1] < 0.05, \"Loss on training set is too high\"\n",
    "assert errors_train[-1] < .01, \"Error on training set is too high\"\n",
    "\n",
    "assert losses_test[-1] < 1.7, \"Loss on test set is too high\"\n",
    "assert np.min(losses_test) < 1.3, \"Minimum loss on test set is too high\"\n",
    "\n",
    "assert errors_test[-1] < 40, \"Error on test set is too high\""
   ]
  },
  {
   "cell_type": "code",
   "execution_count": 13,
   "metadata": {
    "deletable": false,
    "editable": false,
    "id": "yI-l6kA_EH9G",
    "nbgrader": {
     "cell_type": "code",
     "checksum": "37cbc1e83d17961f3d79fa26b04670d9",
     "grade": false,
     "grade_id": "cell-baa7be01fee0fa02",
     "locked": true,
     "schema_version": 3,
     "solution": false,
     "task": false
    }
   },
   "outputs": [
    {
     "data": {
      "image/png": "[encoded data removed]",
      "text/plain": [
       "<Figure size 640x480 with 1 Axes>"
      ]
     },
     "metadata": {},
     "output_type": "display_data"
    },
    {
     "data": {
      "image/png": "[encoded data removed]",
      "text/plain": [
       "<Figure size 640x480 with 1 Axes>"
      ]
     },
     "metadata": {},
     "output_type": "display_data"
    }
   ],
   "source": [
    "# Plot the results\n",
    "fig, ax = plt.subplots()\n",
    "ax.plot(errors_train,'r-',label='train')\n",
    "ax.plot(errors_test,'b-',label='test')\n",
    "ax.set_ylim(0,100); ax.set_xlim(0,n_epoch)\n",
    "ax.set_xlabel('Epoch'); ax.set_ylabel('Error')\n",
    "ax.set_title('TrainError %3.2f, Test Error %3.2f'%(errors_train[-1],errors_test[-1]))\n",
    "ax.legend()\n",
    "plt.show()\n",
    "\n",
    "# Plot the results\n",
    "fig, ax = plt.subplots()\n",
    "ax.plot(losses_train,'r-',label='train')\n",
    "ax.plot(losses_test,'b-',label='test')\n",
    "ax.set_xlim(0,n_epoch)\n",
    "ax.set_xlabel('Epoch'); ax.set_ylabel('Loss')\n",
    "ax.set_title('Train loss %3.2f, Test loss %3.2f'%(losses_train[-1],losses_test[-1]))\n",
    "ax.legend()\n",
    "plt.show()"
   ]
  },
  {
   "cell_type": "markdown",
   "metadata": {
    "deletable": false,
    "editable": false,
    "id": "q-yT6re6GZS4",
    "nbgrader": {
     "cell_type": "markdown",
     "checksum": "020629b488027218cdf69a8c96393f71",
     "grade": false,
     "grade_id": "cell-a4081a80112ce3e8",
     "locked": true,
     "schema_version": 3,
     "solution": false,
     "task": false
    }
   },
   "source": [
    "Look at the difference between training and test, and observe what is happening to test loss as training proceeds.\n",
    "\n",
    "We'll also come back and compare this to the convolutional neural network later."
   ]
  }
 ],
 "metadata": {
  "accelerator": "GPU",
  "colab": {
   "authorship_tag": "ABX9TyNLj3HOpVB87nRu7oSLuBaU",
   "gpuType": "T4",
   "include_colab_link": true,
   "provenance": []
  },
  "kernelspec": {
   "display_name": "Python 3 (ipykernel)",
   "language": "python",
   "name": "python3"
  },
  "language_info": {
   "codemirror_mode": {
    "name": "ipython",
    "version": 3
   },
   "file_extension": ".py",
   "mimetype": "text/x-python",
   "name": "python",
   "nbconvert_exporter": "python",
   "pygments_lexer": "ipython3",
   "version": "3.12.1"
  }
 },
 "nbformat": 4,
 "nbformat_minor": 4
}
